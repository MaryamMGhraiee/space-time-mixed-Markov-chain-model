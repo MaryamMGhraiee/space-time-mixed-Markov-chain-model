{
 "cells": [
  {
   "cell_type": "code",
   "execution_count": 85,
   "id": "f25318db",
   "metadata": {},
   "outputs": [],
   "source": [
    "#default:     sigma_1 = 1 v= 0.1  c1= 0.1 a=0.2 alpha=0.05\n",
    "def model_spec():\n",
    "    sigma_1 = 1\n",
    "    v= 0.01\n",
    "    c1= 0.1\n",
    "    a=0.2\n",
    "    alpha=0.05\n",
    "    return(sigma_1,v,c1,a,alpha)\n",
    "variables = model_spec()"
   ]
  },
  {
   "cell_type": "code",
   "execution_count": 86,
   "id": "b2368b4f",
   "metadata": {},
   "outputs": [
    {
     "data": {
      "text/plain": [
       "(1, 0.01, 0.1, 0.2, 0.05)"
      ]
     },
     "execution_count": 86,
     "metadata": {},
     "output_type": "execute_result"
    }
   ],
   "source": [
    "variables"
   ]
  },
  {
   "cell_type": "code",
   "execution_count": 87,
   "id": "eeecbde2",
   "metadata": {},
   "outputs": [
    {
     "data": {
      "text/plain": [
       "array([[ 0.        ,  0.14142136, 12.72792206, 14.14213562, 33.24154028],\n",
       "       [ 0.14142136,  0.        , 12.58650071, 14.00071427, 33.10015106],\n",
       "       [12.72792206, 12.58650071,  0.        ,  1.41421356, 20.51828453],\n",
       "       [14.14213562, 14.00071427,  1.41421356,  0.        , 19.10497317],\n",
       "       [33.24154028, 33.10015106, 20.51828453, 19.10497317,  0.        ]])"
      ]
     },
     "execution_count": 87,
     "metadata": {},
     "output_type": "execute_result"
    },
    {
     "data": {
      "image/png": "[encoded data removed]",
      "text/plain": [
       "<Figure size 640x480 with 1 Axes>"
      ]
     },
     "metadata": {},
     "output_type": "display_data"
    }
   ],
   "source": [
    "import numpy as np\n",
    "from math import sqrt\n",
    "from matplotlib import pyplot as plt\n",
    "\n",
    "def model_distance(n):\n",
    "    x= [1,1.1,10,11,25]\n",
    "    y= [2,2.1,11,12,25]\n",
    "    np.random.seed(10)\n",
    "    #x = []\n",
    "    #y=[]\n",
    "    #for i in range(n):\n",
    "        #x.append(np.random.randint(0,50))\n",
    "        #y.append(np.random.randint(0,50))\n",
    "    mover = zip(x,y)\n",
    "    mover = list(mover)\n",
    "    #mover = [(1,2),(2,3),(10,11),(11,12),(25,25)]\n",
    "    plt.plot(x,y,'o')\n",
    "    \n",
    "    C = np.zeros((len(mover),len(mover)))\n",
    "    for i in range(len(mover)):\n",
    "        for j in range(len(mover)):\n",
    "                C[i][j]= sqrt(((mover[i][0] - mover[j][0])**2 + (mover[i][1] - mover[j][1])**2))\n",
    "    return(C)\n",
    " \n",
    "C=model_distance(5)\n",
    "C"
   ]
  },
  {
   "cell_type": "code",
   "execution_count": 109,
   "id": "1cdff187",
   "metadata": {},
   "outputs": [
    {
     "name": "stdout",
     "output_type": "stream",
     "text": [
      "p[x1] 0.498\n",
      "p[x2] 0.506\n",
      "p[x5] 0.503\n",
      "total numbers of times all of them are in state 1: 33\n",
      "Expected number of times that all of them are= 1: 33.0\n",
      "times both of the correlated ones are =1: 231\n",
      "times both of the uncorrelated ones are =1: 190\n",
      "corr of the correlated ones are =1: -0.08395871686931067\n",
      "corr of the uncorrelated ones are =1: -0.24198229155167975\n"
     ]
    }
   ],
   "source": [
    "#monte carlo simulation considering Xi(t) = N(0,cov_matrix) in the probabilty\n",
    "#when the locations are **very** far from each other\n",
    "from scipy import special\n",
    "import time\n",
    "\n",
    "start_time = time.time()\n",
    "\n",
    "n=5\n",
    "t=1000\n",
    "\n",
    "sumofmovers = 0\n",
    "number_of_movers_occurance = 0\n",
    "corr_count =0\n",
    "uncorr_count =0\n",
    "E_x1=0\n",
    "E_x2=0\n",
    "E_x5=0\n",
    "eps = 0.001\n",
    "\n",
    "repeat = 1\n",
    "for count in range(repeat):\n",
    "    number_of_movers_occurance = number_of_movers_occurance + 1\n",
    "    D = np.zeros((n,n))\n",
    "    for i in range(0,n):\n",
    "        D[i][i] = sum(C[i])\n",
    "    S_inverse = (1/variables[1]**2)*(D-C)\n",
    "    #produce the general inverse matrix\n",
    "    S = np.linalg.pinv(S_inverse)\n",
    "    mean = np.zeros(n)\n",
    "    b0 = np.random.multivariate_normal(mean,S)\n",
    "    b1 = np.random.multivariate_normal(mean,S)\n",
    "    \n",
    "    #let's consider x(t) now\n",
    "    #spatial cov matrix\n",
    "\n",
    "    sp_cov_matrix = np.zeros((n,n))\n",
    "    for i in range(n):\n",
    "        for j in range(n):\n",
    "            if C[i][j] == 0:\n",
    "                sp_cov_matrix[i][j] = ((1-variables[1])*(np.exp(-variables[2]*C[i][j])) +variables[1]*1)\n",
    "            else:\n",
    "                sp_cov_matrix[i][j] = ((1-variables[1])*(np.exp(-variables[2]*C[i][j])))\n",
    "    #temporal cov matrix\n",
    "    tp__cov_matrix = np.zeros((t,t))\n",
    "    for k in range(0,t):\n",
    "        for i in range(0,t):\n",
    "            #unit is one hour, assume that resolution of data is 5 min\n",
    "              tp__cov_matrix[k][i]=  ((1+variables[3]*(np.abs(k-i)/12)**(2*variables[4]))**(-1))     \n",
    "                \n",
    "    #final spatio-temporal covariance matrix\n",
    "    cov_matrix = np.zeros((t*n,t*n))\n",
    "    for k in range(0,t):\n",
    "        for q in range(0,t):\n",
    "            for i in range(n):\n",
    "                for j in range(n):\n",
    "                    cov_matrix[k*n+i][q*n+j] = sp_cov_matrix[i][j]*tp__cov_matrix[k][q]\n",
    "    mean_1 = np.zeros(n*t)\n",
    "    x= np.random.multivariate_normal(mean_1,cov_matrix)\n",
    "    x= x[::-1]\n",
    "    \n",
    "    #finally, states\n",
    "\n",
    "    # make a matrix for movers, with the size of time steps \n",
    "    #considering the initial states\n",
    "    y_=np.zeros((t,n))\n",
    "\n",
    "    #choose the initial state randomly\n",
    "    for i in range(n):\n",
    "        y_[0][i]= round(np.random.random())\n",
    "\n",
    "    #choose the next state, based on the transition probabilities\n",
    "    prob_01 = np.zeros((n,t))\n",
    "    prob_10 = np.zeros((n,t))\n",
    "    \n",
    "    for i in range(0,n*t):\n",
    "        for j in range(0,n):\n",
    "            if (i)%n == j:\n",
    "                prob_01[j][int((i)/n)] = eps*b0[j]+ 5.7*x[i]\n",
    "                prob_10[j][int((i)/n)] = eps*b1[j]+ 5.7*x[i]\n",
    "\n",
    "    for i in range (0,n):\n",
    "        for j in range(0,t):\n",
    "            prob_01[i][j] = special.expit (prob_01[i][j])\n",
    "            prob_10[i][j] = special.expit (prob_10[i][j])\n",
    "\n",
    "            if y_[j-1][i]==0:\n",
    "                if np.random.random() <= prob_01[i][j]:\n",
    "                    y_[j][i]=1\n",
    "                else:\n",
    "                    y_[j][i]=0\n",
    "\n",
    "            elif y_[j-1][i]==1:\n",
    "                if np.random.random() <= prob_10[i][j]:\n",
    "                    y_[j][i]=0\n",
    "                else:\n",
    "                    y_[j][i]=1\n",
    "    yohoo = 0 \n",
    " \n",
    "    for i in range (0,t):\n",
    "        counter = 0\n",
    "        for k in range (0, n):\n",
    "            if y_[i][k] ==1:\n",
    "                counter = counter+1\n",
    "        if counter == n:\n",
    "            yohoo = yohoo+1\n",
    "    sumofmovers = sumofmovers+yohoo\n",
    "    for j in range (0,t):\n",
    "        if y_[j][3] == y_[j][4] == 1:\n",
    "            corr_count = corr_count+1\n",
    "        if y_[j][0] == y_[j][4] == 1:\n",
    "            uncorr_count = uncorr_count+1      \n",
    "    E_x1=sum(y_[:][:])[4]+E_x1\n",
    "    E_x2=sum(y_[:][:])[3]+E_x2\n",
    "    E_x5=sum(y_[:][:])[0]+E_x5\n",
    "\n",
    "print(\"p[x1]\",E_x1/(repeat*t))\n",
    "print(\"p[x2]\",E_x2/(repeat*t))\n",
    "print(\"p[x5]\",E_x5/(repeat*t))\n",
    "\n",
    "corr_corr = ((corr_count/(repeat*t)) - (E_x1/(repeat*t))*(E_x2/(repeat*t))) /sqrt(((E_x1/(repeat*t)) - (E_x1/(repeat*t))**2)*((E_x2/(repeat*t)) -(E_x2/(repeat*t))**2))\n",
    "corr_uncorr = ((uncorr_count/(repeat*t)) - (E_x1/(repeat*t))*(E_x5/(repeat*t))) /sqrt(((E_x1/(repeat*t)) - (E_x1/(repeat*t))**2)*((E_x5/(repeat*t)) -(E_x5/(repeat*t))**2))\n",
    "#corr\n",
    "print('total numbers of times all of them are in state 1:',sumofmovers)\n",
    "print('Expected number of times that all of them are= 1:',sumofmovers/(repeat))\n",
    "print(\"times both of the correlated ones are =1:\",corr_count)\n",
    "print(\"times both of the uncorrelated ones are =1:\",uncorr_count)\n",
    "\n",
    "print(\"corr of the correlated ones are =1:\",corr_corr)\n",
    "print(\"corr of the uncorrelated ones are =1:\",corr_uncorr)\n",
    "\n",
    "end_time = time.time()\n",
    "total_time = end_time-start_time\n"
   ]
  },
  {
   "cell_type": "code",
   "execution_count": 110,
   "id": "5a23fe32",
   "metadata": {},
   "outputs": [
    {
     "data": {
      "text/plain": [
       "array([[1., 1., 1., 1., 1.],\n",
       "       [0., 0., 0., 0., 0.],\n",
       "       [1., 1., 1., 1., 1.],\n",
       "       ...,\n",
       "       [1., 1., 1., 0., 1.],\n",
       "       [0., 0., 0., 0., 0.],\n",
       "       [1., 0., 1., 1., 1.]])"
      ]
     },
     "execution_count": 110,
     "metadata": {},
     "output_type": "execute_result"
    }
   ],
   "source": [
    "y_"
   ]
  },
  {
   "cell_type": "markdown",
   "id": "417c5733",
   "metadata": {},
   "source": [
    "corrolation between 2 individuals:\n",
    "**Grouped:**\n",
    "v = 0.001\n",
    "times the correlated ones are =one 5968\n",
    "times the q uncorrelated ones are =one 5877\n",
    "\n",
    "v= 0.1\n",
    "times the correlated ones are =one 6000\n",
    "times the q uncorrelated ones are =one 5920\n",
    "\n",
    "v= 0.8\n",
    "p[x1] 0.49575\n",
    "p[x2] 0.5002083333333334\n",
    "p[x5] 0.49604166666666666\n",
    "total numbers of times all of them are in state 1: 739\n",
    "Expected number of times that all of them are= 1: 0.739\n",
    "times both of the correlated ones are =1: 6008\n",
    "times both of the uncorrelated ones are =1: 5879\n",
    "times both of the correlated ones are =1: 0.009420549474556844\n",
    "times both of the uncorrelated ones are =1: -0.00381754920547263\n",
    "\n",
    "\n",
    "\n",
    "**All close to each other:**\n",
    "**All far fro each other:**"
   ]
  },
  {
   "cell_type": "markdown",
   "id": "64a08e61",
   "metadata": {},
   "source": [
    "**Grouped**\\\n",
    "repetitions: 1000 \\\n",
    "default variables: v= 0.1  $c_1$= 0.1   a=0.2  alpha=0.05\n",
    "\n",
    "| Variable that changed | # all of them are in state 1 | # closest ones are=1  | corr of closest ones |# far ones are=1  | corr of far ones |\n",
    "| --- | --- | --- | ---| ---| ---|\n",
    "| v = 0.1 | 730 | 6008 | 0.0112|5858 |-0.0041\n",
    "| v = 0.8 | 739 | 5861 | 0.0094|5879 |-0.0038\n",
    "| v = 0.001 | 723 | 5958 | 0.0190|5819 |0.0017\n",
    "| a= 100 |768 |6036| 0.0089 |5949|-0.0074\n",
    "| a = 0.01 | 741 | 5895|0.0071|5851 | -0.0050\n",
    "|alpha = 1 | 758 | 5971 | 0.0015|5921|-0.0038\n",
    "|alpha =0.001 |765| 5981|0.0045|5916|0.0025"
   ]
  },
  {
   "cell_type": "code",
   "execution_count": 7,
   "id": "7927bb58",
   "metadata": {},
   "outputs": [
    {
     "data": {
      "text/plain": [
       "array([[0., 0., 0., 0., 1.],\n",
       "       [0., 0., 0., 0., 0.],\n",
       "       [1., 0., 0., 0., 1.],\n",
       "       [1., 0., 0., 0., 0.],\n",
       "       [0., 0., 0., 1., 1.],\n",
       "       [1., 1., 0., 1., 1.],\n",
       "       [1., 1., 0., 1., 0.],\n",
       "       [0., 0., 1., 1., 1.],\n",
       "       [0., 0., 0., 1., 0.],\n",
       "       [0., 1., 0., 0., 0.],\n",
       "       [0., 1., 0., 1., 0.],\n",
       "       [1., 1., 0., 1., 1.],\n",
       "       [1., 1., 0., 0., 0.],\n",
       "       [0., 1., 0., 0., 1.],\n",
       "       [0., 0., 1., 1., 0.],\n",
       "       [1., 1., 1., 0., 1.],\n",
       "       [1., 1., 1., 0., 0.],\n",
       "       [1., 1., 1., 1., 1.],\n",
       "       [1., 1., 1., 0., 0.],\n",
       "       [1., 1., 1., 0., 1.],\n",
       "       [1., 1., 1., 1., 1.],\n",
       "       [1., 1., 1., 1., 0.],\n",
       "       [0., 1., 1., 0., 0.],\n",
       "       [0., 1., 1., 1., 1.]])"
      ]
     },
     "execution_count": 7,
     "metadata": {},
     "output_type": "execute_result"
    }
   ],
   "source": [
    "y_"
   ]
  },
  {
   "cell_type": "code",
   "execution_count": 89,
   "id": "212531ed",
   "metadata": {},
   "outputs": [
    {
     "data": {
      "text/plain": [
       "[-0.022829330090422983,\n",
       " -0.06047928795158435,\n",
       " 0.33236605634960337,\n",
       " 0.49616077990192736,\n",
       " 0.3347117097401688,\n",
       " 1.0068818702533597,\n",
       " 0.6802676337870639,\n",
       " 0.8765179805277235,\n",
       " -0.0639282911431773,\n",
       " 0.6443620044476552,\n",
       " 0.6578182458776911,\n",
       " 0.5289111023015897,\n",
       " 0.45289635891181956,\n",
       " 0.5489858378425118,\n",
       " 1.3309961236769177,\n",
       " 0.05556039158083826,\n",
       " 0.7384295772457672,\n",
       " -0.11328957429600307,\n",
       " 0.4048472922641691,\n",
       " 0.8654808777703104,\n",
       " 0.6941196766005997,\n",
       " 0.3698441803347653,\n",
       " 0.7213299048146707,\n",
       " 0.4182709010400148]"
      ]
     },
     "execution_count": 89,
     "metadata": {},
     "output_type": "execute_result"
    }
   ],
   "source": [
    "x_5 = []\n",
    "for i in range(len(x)):\n",
    "    if i%5 ==0:\n",
    "        x_5.append(x[i])\n",
    "x_5"
   ]
  },
  {
   "cell_type": "code",
   "execution_count": 90,
   "id": "cfeb5811",
   "metadata": {},
   "outputs": [
    {
     "data": {
      "text/plain": [
       "[0.3341963211777106,\n",
       " 0.587854942188025,\n",
       " -0.0004587216008528258,\n",
       " 0.16896909074113356,\n",
       " 0.19872975203985394,\n",
       " 0.297831534512518,\n",
       " 0.7089032313384458,\n",
       " -0.0022580222727394818,\n",
       " 0.34863293270993645,\n",
       " -0.15352821187211188,\n",
       " 0.23839675493126997,\n",
       " -0.36521773224528037,\n",
       " 0.7179920219650902,\n",
       " 0.7364767092338513,\n",
       " -0.019992338058708547,\n",
       " -0.15506866132347477,\n",
       " -0.23859626860437824,\n",
       " -0.033124318434976145,\n",
       " -0.48818299116921043,\n",
       " -0.5841145690507886,\n",
       " 0.20768628130681718,\n",
       " -0.2701880684257391,\n",
       " 0.16449622668061054,\n",
       " 0.12271880695484784]"
      ]
     },
     "execution_count": 90,
     "metadata": {},
     "output_type": "execute_result"
    }
   ],
   "source": [
    "x_4 = []\n",
    "for i in range(len(x)):\n",
    "    if i%5 ==1:\n",
    "        x_4.append(x[i])\n",
    "x_4"
   ]
  },
  {
   "cell_type": "code",
   "execution_count": 91,
   "id": "9830aaaa",
   "metadata": {},
   "outputs": [
    {
     "data": {
      "text/plain": [
       "[0.49669824445565186,\n",
       " 0.7718497002253855,\n",
       " 0.38615890112135476,\n",
       " 0.1530321392200733,\n",
       " 0.5874416716554951,\n",
       " 0.7350709087229457,\n",
       " 1.2709297977529805,\n",
       " 0.10127974527202907,\n",
       " 0.7594192655843849,\n",
       " 0.26074758921482993,\n",
       " 0.6062714563989806,\n",
       " 0.2369840792290934,\n",
       " 1.077975300709824,\n",
       " 1.3463995309952461,\n",
       " 0.7098566930669743,\n",
       " 0.22400504385772851,\n",
       " 0.5745325135211442,\n",
       " 0.5424845005184499,\n",
       " -0.05354380625663651,\n",
       " -0.28502886354674994,\n",
       " 0.6920917360612602,\n",
       " -0.10805697365714935,\n",
       " 0.3930257810868908,\n",
       " 0.20289417879865462]"
      ]
     },
     "execution_count": 91,
     "metadata": {},
     "output_type": "execute_result"
    }
   ],
   "source": [
    "x_3 = []\n",
    "for i in range(len(x)):\n",
    "    if i%5 ==2:\n",
    "        x_3.append(x[i])\n",
    "x_3"
   ]
  },
  {
   "cell_type": "code",
   "execution_count": 92,
   "id": "52ded565",
   "metadata": {},
   "outputs": [
    {
     "data": {
      "text/plain": [
       "[-0.32615875986034487,\n",
       " -0.6316472496162866,\n",
       " -0.037134612076459295,\n",
       " 0.1429841577832526,\n",
       " 0.49013748986646527,\n",
       " -0.06336316241844463,\n",
       " 0.5431087458171682,\n",
       " -0.16450490519175168,\n",
       " -0.16986809803107433,\n",
       " 0.23625923491073172,\n",
       " -0.49762097390079907,\n",
       " -0.4127728242641381,\n",
       " 0.01552988371591694,\n",
       " -0.06033996731290843,\n",
       " 0.24650249672520735,\n",
       " -0.9665017309964805,\n",
       " -1.129536868182323,\n",
       " 0.06306407897155271,\n",
       " -0.29322340789046186,\n",
       " -0.18746360343626361,\n",
       " 0.4717234207778382,\n",
       " 0.1541794424669628,\n",
       " 0.029590431401390643,\n",
       " 0.5118737869716368]"
      ]
     },
     "execution_count": 92,
     "metadata": {},
     "output_type": "execute_result"
    }
   ],
   "source": [
    "x_2 = []\n",
    "for i in range(len(x)):\n",
    "    if i%5 ==3:\n",
    "        x_2.append(x[i])\n",
    "x_2"
   ]
  },
  {
   "cell_type": "code",
   "execution_count": 93,
   "id": "c09d88a4",
   "metadata": {},
   "outputs": [
    {
     "data": {
      "text/plain": [
       "[-0.41808763064495863,\n",
       " -0.8442142039631418,\n",
       " -0.14487256490748587,\n",
       " 0.10013943714723353,\n",
       " 0.40038252028835297,\n",
       " -0.07597698029836132,\n",
       " 0.576860278420949,\n",
       " -0.24545234463306193,\n",
       " -0.3547058099396071,\n",
       " 0.2343181342946508,\n",
       " -0.5110470522192982,\n",
       " -0.31711990319862793,\n",
       " -0.13111247183331332,\n",
       " -0.12624774424577329,\n",
       " 0.15524201515499433,\n",
       " -0.9572109061550065,\n",
       " -1.20738823552009,\n",
       " 0.052752660616682635,\n",
       " -0.2950444927815906,\n",
       " -0.1596170100147669,\n",
       " 0.2507871076790554,\n",
       " 0.2048716057783812,\n",
       " 0.09428462500090631,\n",
       " 0.5406752012705581]"
      ]
     },
     "execution_count": 93,
     "metadata": {},
     "output_type": "execute_result"
    }
   ],
   "source": [
    "x_1 = []\n",
    "for i in range(len(x)):\n",
    "    if i%5 ==4:\n",
    "        x_1.append(x[i])\n",
    "x_1"
   ]
  },
  {
   "cell_type": "code",
   "execution_count": 94,
   "id": "d6d44639",
   "metadata": {},
   "outputs": [
    {
     "data": {
      "text/plain": [
       "<matplotlib.legend.Legend at 0x2dc787d8dc0>"
      ]
     },
     "execution_count": 94,
     "metadata": {},
     "output_type": "execute_result"
    },
    {
     "data": {
      "image/png": "[encoded data removed]",
      "text/plain": [
       "<Figure size 640x480 with 1 Axes>"
      ]
     },
     "metadata": {},
     "output_type": "display_data"
    }
   ],
   "source": [
    "Time =np.arange(0, 24, 1, dtype=int)\n",
    "Time = Time* (1/12)\n",
    "plt.ylim([-3, 3])\n",
    "plt.plot(Time,x_1, label='1')\n",
    "plt.plot(Time,x_2, label='2')\n",
    "plt.plot(Time,x_3, label='3')\n",
    "plt.plot(Time,x_4,label='4')\n",
    "plt.plot(Time,x_5,label='5')\n",
    "plt.legend()\n"
   ]
  },
  {
   "cell_type": "code",
   "execution_count": 221,
   "id": "ebbba6ee",
   "metadata": {},
   "outputs": [
    {
     "data": {
      "text/plain": [
       "array([[0., 1., 1., 1., 1.],\n",
       "       [0., 0., 0., 0., 0.],\n",
       "       [0., 1., 1., 1., 1.],\n",
       "       [0., 0., 0., 1., 0.],\n",
       "       [0., 1., 1., 1., 1.],\n",
       "       [0., 1., 0., 0., 0.],\n",
       "       [0., 1., 1., 1., 1.],\n",
       "       [0., 0., 0., 0., 0.],\n",
       "       [0., 0., 1., 1., 1.],\n",
       "       [0., 1., 0., 0., 1.],\n",
       "       [0., 1., 0., 1., 0.],\n",
       "       [0., 0., 1., 0., 1.],\n",
       "       [0., 1., 0., 1., 0.],\n",
       "       [0., 0., 1., 0., 1.],\n",
       "       [0., 1., 0., 1., 0.],\n",
       "       [0., 1., 0., 1., 1.],\n",
       "       [0., 1., 1., 0., 1.],\n",
       "       [0., 0., 1., 1., 0.],\n",
       "       [0., 1., 1., 0., 1.],\n",
       "       [0., 0., 1., 0., 0.],\n",
       "       [0., 1., 0., 1., 1.],\n",
       "       [0., 1., 0., 0., 1.],\n",
       "       [0., 1., 0., 1., 0.],\n",
       "       [0., 1., 1., 1., 1.]])"
      ]
     },
     "execution_count": 221,
     "metadata": {},
     "output_type": "execute_result"
    }
   ],
   "source": [
    "y_"
   ]
  },
  {
   "cell_type": "code",
   "execution_count": 6,
   "id": "8381d23f",
   "metadata": {},
   "outputs": [
    {
     "data": {
      "text/plain": [
       "73"
      ]
     },
     "execution_count": 6,
     "metadata": {},
     "output_type": "execute_result"
    }
   ],
   "source": [
    "sumofmovers"
   ]
  },
  {
   "cell_type": "markdown",
   "id": "3d3eedb3",
   "metadata": {},
   "source": [
    "5 samples:\n",
    "location : (0,5)    sumofmovers/(repeat)=0.6801\n",
    "location : (0,50)   sumofmovers/(repeat)=0.6631\n",
    "\n",
    "Grouped: 2/2/1      print(sumofmovers/(repeat)) = 0.6783"
   ]
  },
  {
   "cell_type": "markdown",
   "id": "2026fde6",
   "metadata": {},
   "source": [
    "2 samples\n",
    "location : (0,2) corr: 0.011414832570969652\n",
    "location : (0,20) corr: 0.010548184940579514\n",
    "location : (0,200) corr: 0.0010274434411589426"
   ]
  },
  {
   "cell_type": "code",
   "execution_count": null,
   "id": "5497e097",
   "metadata": {},
   "outputs": [],
   "source": []
  }
 ],
 "metadata": {
  "kernelspec": {
   "display_name": "Python 3 (ipykernel)",
   "language": "python",
   "name": "python3"
  },
  "language_info": {
   "codemirror_mode": {
    "name": "ipython",
    "version": 3
   },
   "file_extension": ".py",
   "mimetype": "text/x-python",
   "name": "python",
   "nbconvert_exporter": "python",
   "pygments_lexer": "ipython3",
   "version": "3.9.15"
  }
 },
 "nbformat": 4,
 "nbformat_minor": 5
}
